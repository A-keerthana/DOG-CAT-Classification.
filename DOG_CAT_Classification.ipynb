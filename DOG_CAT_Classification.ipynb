{
  "nbformat": 4,
  "nbformat_minor": 0,
  "metadata": {
    "colab": {
      "provenance": [],
      "mount_file_id": "1cXbyGyANCMuUGy9kYamjYg0fj5_4kgob",
      "authorship_tag": "ABX9TyMyQ3h4t8IZutz5VcpdUqGk",
      "include_colab_link": true
    },
    "kernelspec": {
      "name": "python3",
      "display_name": "Python 3"
    },
    "language_info": {
      "name": "python"
    }
  },
  "cells": [
    {
      "cell_type": "markdown",
      "metadata": {
        "id": "view-in-github",
        "colab_type": "text"
      },
      "source": [
        "<a href=\"https://colab.research.google.com/github/A-keerthana/DOG-CAT-Classification./blob/main/DOG_CAT_Classification.ipynb\" target=\"_parent\"><img src=\"https://colab.research.google.com/assets/colab-badge.svg\" alt=\"Open In Colab\"/></a>"
      ]
    },
    {
      "cell_type": "code",
      "execution_count": null,
      "metadata": {
        "id": "pN7HbbaunmtD"
      },
      "outputs": [],
      "source": [
        "import numpy as np\n",
        "import pandas as pd\n",
        "import matplotlib.pyplot as plt\n",
        "import cv2\n",
        "import tensorflow as tf\n",
        "import random\n",
        "import zipfile\n",
        "import os\n",
        "from PIL import Image\n",
        "from sklearn.model_selection import train_test_split\n",
        "from sklearn.metrics import classification_report"
      ]
    },
    {
      "cell_type": "code",
      "source": [
        "with zipfile.ZipFile('/content/drive/MyDrive/DOG & CAT Classification./train.zip', 'r') as train_zip:\n",
        "    train_zip.extractall('.')\n",
        "image_dir = \"/content/train\"\n",
        "filenames = os.listdir(image_dir)\n",
        "labels = [x.split(\".\")[0] for x in filenames]\n",
        "data = pd.DataFrame({\"filename\": filenames, \"label\": labels})\n",
        "data.head()"
      ],
      "metadata": {
        "id": "W5TSDv_FpGk_"
      },
      "execution_count": null,
      "outputs": []
    },
    {
      "cell_type": "code",
      "source": [
        "data['label'].value_counts()"
      ],
      "metadata": {
        "id": "rsEqompRplzA"
      },
      "execution_count": null,
      "outputs": []
    },
    {
      "cell_type": "code",
      "source": [
        "grouped_data = data.groupby(\"label\")\n",
        "\n",
        "num_images_per_category = 5\n",
        "\n",
        "fig, axes = plt.subplots(len(grouped_data), num_images_per_category, figsize=(20, 20))\n",
        "\n",
        "for i, (category, group) in enumerate(grouped_data):\n",
        "\n",
        "    random_indices = random.sample(range(len(group)), num_images_per_category)\n",
        "\n",
        "    for j, index in enumerate(random_indices):\n",
        "        filename = group.iloc[index][\"filename\"]\n",
        "        label = group.iloc[index][\"label\"]\n",
        "        image_path = os.path.join(image_dir, filename)\n",
        "        image = Image.open(image_path)\n",
        "\n",
        "        axes[i, j].imshow(image)\n",
        "        axes[i, j].set_title(\"Label: \" + label, fontsize = 30)\n",
        "\n",
        "\n",
        "plt.tight_layout()\n",
        "plt.show()"
      ],
      "metadata": {
        "id": "7DcSCLp9seRl"
      },
      "execution_count": null,
      "outputs": []
    },
    {
      "cell_type": "code",
      "source": [
        "image_paths = [os.path.join(image_dir, filename) for filename in os.listdir(image_dir)]\n",
        "\n",
        "image_width = []\n",
        "image_height = []\n",
        "for image_path in image_paths:\n",
        "    image = cv2.imread(image_path)\n",
        "    height, width, _ = image.shape\n",
        "    image_width.append(width)\n",
        "    image_height.append(height)\n",
        "\n",
        "median_width = np.median(image_width)\n",
        "median_height = np.median(image_height)\n",
        "\n",
        "\n",
        "print('median_size:', median_width,  'X', median_height)\n"
      ],
      "metadata": {
        "id": "QGc8ntJ4tAGn"
      },
      "execution_count": null,
      "outputs": []
    },
    {
      "cell_type": "code",
      "source": [
        "labels = data['label']\n",
        "X_train, X_temp = train_test_split(data, test_size=0.2, stratify=labels, random_state = 23)\n",
        "\n",
        "label_test_val = X_temp['label']\n",
        "X_test, X_val = train_test_split(X_temp, test_size=0.5, stratify=label_test_val, random_state = 23)\n",
        "\n",
        "print ('X_train:', X_train['label'].value_counts())\n",
        "\n",
        "print ('X_val:', X_val['label'].value_counts())\n",
        "\n",
        "print ('X_test:', X_test['label'].value_counts())"
      ],
      "metadata": {
        "id": "CN9ZMk3JBh4_"
      },
      "execution_count": null,
      "outputs": []
    },
    {
      "cell_type": "code",
      "source": [
        "batch_size = 64\n",
        "size = (370, 370)\n",
        "idg = tf.keras.preprocessing.image.ImageDataGenerator(preprocessing_function = tf.keras.applications.vgg16.preprocess_input)"
      ],
      "metadata": {
        "id": "OnZjAChkB0Fg"
      },
      "execution_count": null,
      "outputs": []
    },
    {
      "cell_type": "code",
      "source": [
        "train_idg = idg.flow_from_dataframe(X_train, \"train/\", x_col= \"filename\", y_col= \"label\",batch_size = batch_size,target_size=size)"
      ],
      "metadata": {
        "id": "DpheqoQsB5I5"
      },
      "execution_count": null,
      "outputs": []
    },
    {
      "cell_type": "code",
      "source": [
        "val_idg = idg.flow_from_dataframe(X_val, \"train/\", x_col=\"filename\", y_col=\"label\", batch_size = batch_size,target_size = size, shuffle = False)"
      ],
      "metadata": {
        "id": "x11HaScwB_G0"
      },
      "execution_count": null,
      "outputs": []
    },
    {
      "cell_type": "code",
      "source": [
        "test_idg = idg.flow_from_dataframe(X_test, \"train/\", x_col= \"filename\", y_col= \"label\", batch_size = batch_size, target_size=size, shuffle = False)"
      ],
      "metadata": {
        "id": "q0bUoQhBCruU"
      },
      "execution_count": null,
      "outputs": []
    },
    {
      "cell_type": "code",
      "source": [
        "vgg16_model = tf.keras.applications.vgg16.VGG16(include_top=False, input_shape=(370, 370, 3))"
      ],
      "metadata": {
        "id": "7Prf11EjCxzy"
      },
      "execution_count": null,
      "outputs": []
    },
    {
      "cell_type": "code",
      "source": [
        "vgg16_model.summary()"
      ],
      "metadata": {
        "id": "8MamiZIQDAQW"
      },
      "execution_count": null,
      "outputs": []
    },
    {
      "cell_type": "code",
      "source": [
        "for layer in vgg16_model.layers:\n",
        "  layer.trainable = False"
      ],
      "metadata": {
        "id": "7NLT9srQDHlx"
      },
      "execution_count": null,
      "outputs": []
    },
    {
      "cell_type": "code",
      "source": [
        "flat = tf.keras.layers.Flatten() (vgg16_model.output)\n",
        "dropout1 = tf.keras.layers.Dropout(0.2, name=\"Dropout1\") (flat)\n",
        "dense1 = tf.keras.layers.Dense(128, activation=\"relu\") (dropout1)\n",
        "dropout2 = tf.keras.layers.Dropout(0.2, name=\"Dropout2\")(dense1)\n",
        "output = tf.keras.layers.Dense(2, activation=\"softmax\") (dropout2)\n",
        "\n",
        "final_model = tf.keras.models.Model(inputs=[vgg16_model.input], outputs=[output])"
      ],
      "metadata": {
        "id": "g87gN9v6DPY9"
      },
      "execution_count": null,
      "outputs": []
    },
    {
      "cell_type": "code",
      "source": [
        "tf.keras.utils.plot_model(final_model, show_shapes = True, show_layer_names=True)"
      ],
      "metadata": {
        "id": "9tIhEvFQDTtB"
      },
      "execution_count": null,
      "outputs": []
    },
    {
      "cell_type": "code",
      "source": [
        "final_model.compile(optimizer='adam',loss=tf.keras.losses.categorical_crossentropy, metrics = [\"acc\"])"
      ],
      "metadata": {
        "id": "5HRmsIiJDZhK"
      },
      "execution_count": null,
      "outputs": []
    },
    {
      "cell_type": "code",
      "source": [
        "model_ckpt = tf.keras.callbacks.ModelCheckpoint(\"DogCat\",monitor=\"val_loss\",save_best_only=True)"
      ],
      "metadata": {
        "id": "filk7k8SDduk"
      },
      "execution_count": null,
      "outputs": []
    },
    {
      "cell_type": "code",
      "source": [
        "history = final_model.fit(train_idg, batch_size=batch_size, validation_data=val_idg, epochs = 8, callbacks=[model_ckpt])"
      ],
      "metadata": {
        "colab": {
          "base_uri": "https://localhost:8080/"
        },
        "id": "BXKLsOr-DtQl",
        "outputId": "1cf3e97d-d858-49bd-bdc1-7c28418c3a50"
      },
      "execution_count": null,
      "outputs": [
        {
          "output_type": "stream",
          "name": "stdout",
          "text": [
            "Epoch 1/8\n",
            " 10/313 [..............................] - ETA: 9:22:27 - loss: 30.6878 - acc: 0.6687"
          ]
        }
      ]
    },
    {
      "cell_type": "code",
      "source": [
        "acc = history.history['acc']\n",
        "val_acc = history.history['val_acc']\n",
        "\n",
        "loss = history.history['loss']\n",
        "val_loss = history.history['val_loss']\n",
        "\n",
        "epochs_range = range(8)\n",
        "\n",
        "plt.figure(figsize=(8, 8))\n",
        "plt.subplot(1, 2, 1)\n",
        "plt.plot(epochs_range, acc, label='Training Accuracy')\n",
        "plt.plot(epochs_range, val_acc, label = 'Validation Accuracy')\n",
        "plt.legend(loc='lower right')\n",
        "plt.title('Training and Validation Accuracy')\n",
        "\n",
        "plt.subplot(1, 2, 2)\n",
        "plt.plot(epochs_range, loss, label='Training Loss')\n",
        "plt.plot(epochs_range, val_loss, label='Validation Loss')\n",
        "plt.legend(loc='upper right')\n",
        "plt.title('Training and Validation Loss')\n",
        "plt.show()"
      ],
      "metadata": {
        "id": "-Xg1qDyuDy41"
      },
      "execution_count": null,
      "outputs": []
    },
    {
      "cell_type": "code",
      "source": [
        "cat_dog_model = tf.keras.models.load_model(\"DogCat\")\n",
        "\n",
        "result = cat_dog_model.predict(test_idg)\n",
        "\n",
        "result_argmax = np.argmax(result, axis=1)\n",
        "\n",
        "y_true = test_idg.labels\n",
        "\n",
        "y_pred = result_argmax\n",
        "\n",
        "accuracy = (y_pred == y_true).mean()\n",
        "\n",
        "print(\"Test Accuracy:\", accuracy)"
      ],
      "metadata": {
        "id": "8q6FjVCFD89C"
      },
      "execution_count": null,
      "outputs": []
    },
    {
      "cell_type": "code",
      "source": [
        "print(classification_report(y_true, y_pred))"
      ],
      "metadata": {
        "id": "2E22EUhAEL9y"
      },
      "execution_count": null,
      "outputs": []
    },
    {
      "cell_type": "code",
      "source": [
        "with zipfile.ZipFile('/kaggle/input/dogs-vs-cats/test1.zip', 'r') as test1_zip:\n",
        "    test1_zip.extractall('.')\n",
        "test_dir = \"../working/test1/\"\n",
        "filenames = os.listdir(test_dir)\n",
        "test_data = pd.DataFrame({\"filename\": filenames})\n",
        "test_data['label'] = 'unknown'\n",
        "test_data.head()"
      ],
      "metadata": {
        "id": "bw_LU_wQERn5"
      },
      "execution_count": null,
      "outputs": []
    },
    {
      "cell_type": "code",
      "source": [
        "test1_idg =  idg.flow_from_dataframe(test_data, \"test1/\", x_col= \"filename\",y_col = 'label',batch_size = batch_size, target_size=size, shuffle = False)"
      ],
      "metadata": {
        "id": "RX4ZTGT2EXoa"
      },
      "execution_count": null,
      "outputs": []
    },
    {
      "cell_type": "code",
      "source": [
        "test1_predict = cat_dog_model.predict(test1_idg)\n",
        "\n",
        "test1_predict_argmax = np.argmax(test1_predict, axis=1)\n",
        "\n",
        "y_test_pred = test1_predict_argmax\n",
        "\n",
        "test_data['label'] = y_test_pred\n",
        "\n",
        "test_data.head()"
      ],
      "metadata": {
        "id": "Oiq_VQIpEnJZ"
      },
      "execution_count": null,
      "outputs": []
    },
    {
      "cell_type": "code",
      "source": [
        "train_idg.class_indices"
      ],
      "metadata": {
        "id": "3XeeK3PkEtde"
      },
      "execution_count": null,
      "outputs": []
    },
    {
      "cell_type": "code",
      "source": [
        "label_mapping = {0: 'cat', 1: 'dog'}\n",
        "test_data['label'] = test_data['label'].map(label_mapping)\n",
        "test_data.head()"
      ],
      "metadata": {
        "id": "oo1QjKVOExqj"
      },
      "execution_count": null,
      "outputs": []
    },
    {
      "cell_type": "code",
      "source": [
        "fig, axes = plt.subplots(1, 5, figsize=(20, 4))\n",
        "for idx in range(5):\n",
        "    image_path = os.path.join(test_dir, test_data.iloc[idx]['filename'])\n",
        "    image = Image.open(image_path)\n",
        "    axes[idx].imshow(image)\n",
        "    axes[idx].set_title(\"Label: \" + test_data.iloc[idx]['label'])\n",
        "    axes[idx].axis('off')\n",
        "plt.show()"
      ],
      "metadata": {
        "id": "TCIWUFusE1i6"
      },
      "execution_count": null,
      "outputs": []
    },
    {
      "cell_type": "code",
      "source": [],
      "metadata": {
        "id": "PWj17XquE7yy"
      },
      "execution_count": null,
      "outputs": []
    }
  ]
}